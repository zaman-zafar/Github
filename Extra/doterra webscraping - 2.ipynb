{
 "cells": [
  {
   "cell_type": "code",
   "execution_count": 2,
   "id": "93edec83",
   "metadata": {},
   "outputs": [],
   "source": [
    "from requests_html import AsyncHTMLSession\n",
    "from IPython.display import Image\n",
    "import pandas as pd\n",
    "import numpy as np\n",
    "import re"
   ]
  },
  {
   "cell_type": "code",
   "execution_count": 2,
   "id": "fb0ecfc3",
   "metadata": {},
   "outputs": [],
   "source": [
    "session = AsyncHTMLSession()"
   ]
  },
  {
   "cell_type": "code",
   "execution_count": 3,
   "id": "7f73cf5b",
   "metadata": {},
   "outputs": [],
   "source": [
    "url = await session.get(\"https://cdo.doterra.cn/api/v1/client_api?version=36&token=&m=pg005&uid=&channel=MyO&fc=\" , timeout = 100)"
   ]
  },
  {
   "cell_type": "code",
   "execution_count": 4,
   "id": "26fbe088",
   "metadata": {},
   "outputs": [
    {
     "data": {
      "text/plain": [
       "200"
      ]
     },
     "execution_count": 4,
     "metadata": {},
     "output_type": "execute_result"
    }
   ],
   "source": [
    "url.status_code"
   ]
  },
  {
   "cell_type": "code",
   "execution_count": 5,
   "id": "6a15d9b1",
   "metadata": {},
   "outputs": [
    {
     "data": {
      "text/plain": [
       "'{\"key\":null,\"response\":{\"code\":\"1\",\"errorCode\":\"0000\",\"message\":null,\"time\":\"2021-06-17 15:59:15\"},\"data\":{\"version\":{\"version\":1,\"last_up_time\":\"2021-06-17T15:59:15.6114529+08:00\",\"expired\":7200},\"value\":[{\"limit_id\":69,\"limit_type\":\"Common\",\"customer_type\":\"ALL\",\"by_level\":\"VipNo\",\"sku\":\"60209339\",\"max_num\":1,\"min_num\":0,\"remark\":null,\"lrp_level\":null,\"limit_sku\":null,\"buy_begintime\":null,\"buy_endtime\":null},{\"limit_id\":116,\"limit_type\":\"Common\",\"customer_type\":\"ALL\",\"by_level\":\"VipNo\",\"sku\":\"60213270\",\"max_num\":4,\"min_num\":0,\"remark\":null,\"lrp_level\":null,\"limit_sku\":null,\"buy_begintime\":null,\"buy_endtime\":null},{\"limit_id\":170,\"limit_type\":\"PT\",\"customer_type\":\"ALL\",\"by_level\":\"LRPList\",\"sku\":\"60211218\",\"max_num\":0,\"min_num\":0,\"remark\":\"仅限木兰银卡及以上顾客兑换。\",\"lrp_level\":\"2,3,4,5\",\"limit_sku\":null,\"buy_begintime\":null,\"buy_endtime\":null},{\"limit_id\":172,\"limit_type\":\"PT\",\"customer_type\":\"ALL\",\"by_level\":\"LRPList\",\"sku\":\"60212082\",\"max_num\":0,\"min_num\":0,\"remark\":\"仅限木兰银卡及以上顾客兑换。\",\"lrp_level\":\"2,3,4,5\",\"limit_sku\":null,\"buy_begintime\":null,\"buy_endtime\":null},{\"limit_id\":173,\"limit_type\":\"PT\",\"customer_type\":\"ALL\",\"by_level\":\"LRPList\",\"sku\":\"60205802\",\"max_num\":0,\"min_num\":0,\"remark\":\"仅限木兰银卡及以上顾客兑换。\",\"lrp_level\":\"2,3,4,5\",\"limit_sku\":null,\"buy_begintime\":null,\"buy_endtime\":null},{\"limit_id\":174,\"limit_type\":\"PT\",\"customer_type\":\"ALL\",\"by_level\":\"LRPList\",\"sku\":\"60209102\",\"max_num\":0,\"min_num\":0,\"remark\":\"仅限木兰银卡及以上顾客兑换。\",\"lrp_level\":\"2,3,4,5\",\"limit_sku\":null,\"buy_begintime\":null,\"buy_endtime\":null},{\"limit_id\":175,\"limit_type\":\"PT\",\"customer_type\":\"ALL\",\"by_level\":\"LRPList\",\"sku\":\"60201696\",\"max_num\":0,\"min_num\":0,\"remark\":\"仅限木兰银卡及以上顾客兑换。\",\"lrp_level\":\"2,3,4,5\",\"limit_sku\":null,\"buy_begintime\":null,\"buy_endtime\":null},{\"limit_id\":176,\"limit_type\":\"PT\",\"customer_type\":\"ALL\",\"by_level\":\"LRPList\",\"sku\":\"31521912\",\"max_num\":0,\"min_num\":0,\"remark\":\"仅限木兰银卡及以上顾客兑换。\",\"lrp_level\":\"2,3,4,5\",\"limit_sku\":null,\"buy_begintime\":null,\"buy_endtime\":null},{\"limit_id\":177,\"limit_type\":\"PT\",\"customer_type\":\"ALL\",\"by_level\":\"LRPList\",\"sku\":\"60208501\",\"max_num\":0,\"min_num\":0,\"remark\":\"仅限木兰银卡及以上顾客兑换。\",\"lrp_level\":\"2,3,4,5\",\"limit_sku\":null,\"buy_begintime\":null,\"buy_endtime\":null},{\"limit_id\":178,\"limit_type\":\"PT\",\"customer_type\":\"ALL\",\"by_level\":\"LRPList\",\"sku\":\"60206073\",\"max_num\":0,\"min_num\":0,\"remark\":\"仅限木兰银卡及以上顾客兑换。\",\"lrp_level\":\"2,3,4,5\",\"limit_sku\":null,\"buy_begintime\":null,\"buy_endtime\":null},{\"limit_id\":179,\"limit_type\":\"PT\",\"customer_type\":\"ALL\",\"by_level\":\"LRPList\",\"sku\":\"60207929\",\"max_num\":0,\"min_num\":0,\"remark\":\"仅限木兰银卡及以上顾客兑换。\",\"lrp_level\":\"2,3,4,5\",\"limit_sku\":null,\"buy_begintime\":null,\"buy_endtime\":null},{\"limit_id\":180,\"limit_type\":\"PT\",\"customer_type\":\"ALL\",\"by_level\":\"LRPList\",\"sku\":\"60202798\",\"max_num\":0,\"min_num\":0,\"remark\":\"仅限木兰银卡及以上顾客兑换。\",\"lrp_level\":\"2,3,4,5\",\"limit_sku\":null,\"buy_begintime\":null,\"buy_endtime\":null},{\"limit_id\":181,\"limit_type\":\"PT\",\"customer_type\":\"ALL\",\"by_level\":\"LRPList\",\"sku\":\"60210834\",\"max_num\":0,\"min_num\":0,\"remark\":\"仅限木兰银卡及以上顾客兑换。\",\"lrp_level\":\"2,3,4,5\",\"limit_sku\":null,\"buy_begintime\":null,\"buy_endtime\":null},{\"limit_id\":182,\"limit_type\":\"PT\",\"customer_type\":\"ALL\",\"by_level\":\"LRPList\",\"sku\":\"33152222\",\"max_num\":0,\"min_num\":0,\"remark\":\"仅限木兰银卡及以上顾客兑换。\",\"lrp_level\":\"2,3,4,5\",\"limit_sku\":null,\"buy_begintime\":null,\"buy_endtime\":null},{\"limit_id\":183,\"limit_type\":\"PT\",\"customer_type\":\"ALL\",\"by_level\":\"LRPList\",\"sku\":\"RE60212547\",\"max_num\":0,\"min_num\":0,\"remark\":\"仅限木兰银卡及以上顾客兑换。\",\"lrp_level\":\"2,3,4,5\",\"limit_sku\":null,\"buy_begintime\":null,\"buy_endtime\":null},{\"limit_id\":184,\"limit_type\":\"PT\",\"customer_type\":\"ALL\",\"by_level\":\"LRPList\",\"sku\":\"60213532\",\"max_num\":0,\"min_num\":0,\"remark\":\"仅限木兰银卡及以上顾客兑换。\",\"lrp_level\":\"2,3,4,5\",\"limit_sku\":null,\"buy_begintime\":null,\"buy_endtime\":null},{\"limit_id\":185,\"limit_type\":\"PT\",\"customer_type\":\"ALL\",\"by_level\":\"LRPList\",\"sku\":\"60210149\",\"max_num\":0,\"min_num\":0,\"remark\":\"仅限木兰银卡及以上顾客兑换。\",\"lrp_level\":\"2,3,4,5\",\"limit_sku\":null,\"buy_begintime\":null,\"buy_endtime\":null},{\"limit_id\":186,\"limit_type\":\"PT\",\"customer_type\":\"ALL\",\"by_level\":\"LRPList\",\"sku\":\"60210779\",\"max_num\":0,\"min_num\":0,\"remark\":\"仅限木兰银卡及以上顾客兑换。\",\"lrp_level\":\"2,3,4,5\",\"limit_sku\":null,\"buy_begintime\":null,\"buy_endtime\":null},{\"limit_id\":187,\"limit_type\":\"PT\",\"customer_type\":\"ALL\",\"by_level\":\"LRPList\",\"sku\":\"60211320\",\"max_num\":0,\"min_num\":0,\"remark\":\"仅限木兰银卡及以上顾客兑换。\",\"lrp_level\":\"2,3,4,5\",\"limit_sku\":null,\"buy_begintime\":null,\"buy_endtime\":null},{\"limit_id\":188,\"limit_type\":\"PT\",\"customer_type\":\"ALL\",\"by_level\":\"LRPList\",\"sku\":\"32120000\",\"max_num\":0,\"min_num\":0,\"remark\":\"仅限木兰银卡及以上顾客兑换。\",\"lrp_level\":\"2,3,4,5\",\"limit_sku\":null,\"buy_begintime\":null,\"buy_endtime\":null},{\"limit_id\":189,\"limit_type\":\"FirstSet\",\"customer_type\":\"ALL\",\"by_level\":\"VipNo\",\"sku\":\"60217271\",\"max_num\":1,\"min_num\":0,\"remark\":null,\"lrp_level\":\"0\",\"limit_sku\":null,\"buy_begintime\":null,\"buy_endtime\":null},{\"limit_id\":190,\"limit_type\":\"FirstSet\",\"customer_type\":\"ALL\",\"by_level\":\"VipNo\",\"sku\":\"60217272\",\"max_num\":1,\"min_num\":0,\"remark\":null,\"lrp_level\":\"0\",\"limit_sku\":null,\"buy_begintime\":null,\"buy_endtime\":null},{\"limit_id\":191,\"limit_type\":\"FirstSet\",\"customer_type\":\"ALL\",\"by_level\":\"VipNo\",\"sku\":\"60217276\",\"max_num\":1,\"min_num\":0,\"remark\":null,\"lrp_level\":\"0\",\"limit_sku\":null,\"buy_begintime\":null,\"buy_endtime\":null},{\"limit_id\":192,\"limit_type\":\"FirstSet\",\"customer_type\":\"ALL\",\"by_level\":\"VipNo\",\"sku\":\"60217277\",\"max_num\":1,\"min_num\":0,\"remark\":null,\"lrp_level\":\"0\",\"limit_sku\":null,\"buy_begintime\":null,\"buy_endtime\":null},{\"limit_id\":193,\"limit_type\":\"FirstSet\",\"customer_type\":\"ALL\",\"by_level\":\"VipNo\",\"sku\":\"60217270\",\"max_num\":1,\"min_num\":0,\"remark\":null,\"lrp_level\":\"0\",\"limit_sku\":null,\"buy_begintime\":null,\"buy_endtime\":null},{\"limit_id\":195,\"limit_type\":\"PT\",\"customer_type\":\"ALL\",\"by_level\":\"LRPList\",\"sku\":\"60210594\",\"max_num\":0,\"min_num\":0,\"remark\":\"仅限木兰银卡及以上顾客兑换。\",\"lrp_level\":\"2,3,4,5\",\"limit_sku\":null,\"buy_begintime\":null,\"buy_endtime\":null},{\"limit_id\":196,\"limit_type\":\"PT\",\"customer_type\":\"ALL\",\"by_level\":\"LRPList\",\"sku\":\"60213933\",\"max_num\":0,\"min_num\":0,\"remark\":\"仅限木兰银卡及以上顾客兑换。\",\"lrp_level\":\"2,3,4,5\",\"limit_sku\":null,\"buy_begintime\":null,\"buy_endtime\":null},{\"limit_id\":197,\"limit_type\":\"PT\",\"customer_type\":\"ALL\",\"by_level\":\"LRPList\",\"sku\":\"60207851\",\"max_num\":0,\"min_num\":0,\"remark\":\"仅限木兰银卡及以上顾客兑换。\",\"lrp_level\":\"2,3,4,5\",\"limit_sku\":null,\"buy_begintime\":null,\"buy_endtime\":null},{\"limit_id\":198,\"limit_type\":\"PT\",\"customer_type\":\"ALL\",\"by_level\":\"LRPList\",\"sku\":\"RE60207776\",\"max_num\":0,\"min_num\":0,\"remark\":\"仅限木兰银卡及以上顾客兑换。\",\"lrp_level\":\"2,3,4,5\",\"limit_sku\":null,\"buy_begintime\":null,\"buy_endtime\":null},{\"limit_id\":199,\"limit_type\":\"PT\",\"customer_type\":\"ALL\",\"by_level\":\"LRPList\",\"sku\":\"RE60207219\",\"max_num\":0,\"min_num\":0,\"remark\":\"仅限木兰银卡及以上顾客兑换。\",\"lrp_level\":\"2,3,4,5\",\"limit_sku\":null,\"buy_begintime\":null,\"buy_endtime\":null},{\"limit_id\":200,\"limit_type\":\"PT\",\"customer_type\":\"ALL\",\"by_level\":\"LRPList\",\"sku\":\"RE60207217\",\"max_num\":0,\"min_num\":0,\"remark\":\"仅限木兰银卡及以上顾客兑换。\",\"lrp_level\":\"2,3,4,5\",\"limit_sku\":null,\"buy_begintime\":null,\"buy_endtime\":null},{\"limit_id\":201,\"limit_type\":\"PT\",\"customer_type\":\"ALL\",\"by_level\":\"LRPList\",\"sku\":\"RE60207850\",\"max_num\":0,\"min_num\":0,\"remark\":\"仅限木兰银卡及以上顾客兑换。\",\"lrp_level\":\"2,3,4,5\",\"limit_sku\":null,\"buy_begintime\":null,\"buy_endtime\":null},{\"limit_id\":202,\"limit_type\":\"PT\",\"customer_type\":\"ALL\",\"by_level\":\"LRPList\",\"sku\":\"RE60207845\",\"max_num\":0,\"min_num\":0,\"remark\":\"仅限木兰银卡及以上顾客兑换。\",\"lrp_level\":\"2,3,4,5\",\"limit_sku\":null,\"buy_begintime\":null,\"buy_endtime\":null},{\"limit_id\":203,\"limit_type\":\"PT\",\"customer_type\":\"ALL\",\"by_level\":\"LRPList\",\"sku\":\"RE60213965\",\"max_num\":0,\"min_num\":0,\"remark\":\"仅限木兰银卡及以上顾客兑换。\",\"lrp_level\":\"2,3,4,5\",\"limit_sku\":null,\"buy_begintime\":null,\"buy_endtime\":null},{\"limit_id\":204,\"limit_type\":\"PT\",\"customer_type\":\"ALL\",\"by_level\":\"LRPList\",\"sku\":\"RE60213966\",\"max_num\":0,\"min_num\":0,\"remark\":\"仅限木兰银卡及以上顾客兑换。\",\"lrp_level\":\"2,3,4,5\",\"limit_sku\":null,\"buy_begintime\":null,\"buy_endtime\":null},{\"limit_id\":205,\"limit_type\":\"PT\",\"customer_type\":\"ALL\",\"by_level\":\"LRPList\",\"sku\":\"RE60209607\",\"max_num\":0,\"min_num\":0,\"remark\":\"仅限木兰银卡及以上顾客兑换。\",\"lrp_level\":\"2,3,4,5\",\"limit_sku\":null,\"buy_begintime\":null,\"buy_endtime\":null},{\"limit_id\":206,\"limit_type\":\"PT\",\"customer_type\":\"ALL\",\"by_level\":\"LRPList\",\"sku\":\"60212084\",\"max_num\":0,\"min_num\":0,\"remark\":\"仅限木兰银卡及以上顾客兑换。\",\"lrp_level\":\"2,3,4,5\",\"limit_sku\":null,\"buy_begintime\":null,\"buy_endtime\":null},{\"limit_id\":207,\"limit_type\":\"PT\",\"customer_type\":\"ALL\",\"by_level\":\"LRPList\",\"sku\":\"60212035\",\"max_num\":0,\"min_num\":0,\"remark\":\"仅限木兰银卡及以上顾客兑换。\",\"lrp_level\":\"2,3,4,5\",\"limit_sku\":null,\"buy_begintime\":null,\"buy_endtime\":null},{\"limit_id\":208,\"limit_type\":\"PT\",\"customer_type\":\"ALL\",\"by_level\":\"LRPList\",\"sku\":\"60206111\",\"max_num\":0,\"min_num\":0,\"remark\":\"仅限木兰银卡及以上顾客兑换。\",\"lrp_level\":\"2,3,4,5\",\"limit_sku\":null,\"buy_begintime\":null,\"buy_endtime\":null},{\"limit_id\":209,\"limit_type\":\"PT\",\"customer_type\":\"ALL\",\"by_level\":\"LRPList\",\"sku\":\"60205383\",\"max_num\":0,\"min_num\":0,\"remark\":\"仅限木兰银卡及以上顾客兑换。\",\"lrp_level\":\"2,3,4,5\",\"limit_sku\":null,\"buy_begintime\":null,\"buy_endtime\":null},{\"limit_id\":210,\"limit_type\":\"PT\",\"customer_type\":\"ALL\",\"by_level\":\"LRPList\",\"sku\":\"60200046\",\"max_num\":0,\"min_num\":0,\"remark\":\"仅限木兰银卡及以上顾客兑换。\",\"lrp_level\":\"2,3,4,5\",\"limit_sku\":null,\"buy_begintime\":null,\"buy_endtime\":null},{\"limit_id\":211,\"limit_type\":\"PT\",\"customer_type\":\"ALL\",\"by_level\":\"LRPList\",\"sku\":\"60210791\",\"max_num\":0,\"min_num\":0,\"remark\":\"仅限木兰银卡及以上顾客兑换。\",\"lrp_level\":\"2,3,4,5\",\"limit_sku\":null,\"buy_begintime\":null,\"buy_endtime\":null},{\"limit_id\":212,\"limit_type\":\"PT\",\"customer_type\":\"ALL\",\"by_level\":\"LRPList\",\"sku\":\"60211372\",\"max_num\":0,\"min_num\":0,\"remark\":\"仅限木兰银卡及以上顾客兑换。\",\"lrp_level\":\"2,3,4,5\",\"limit_sku\":null,\"buy_begintime\":null,\"buy_endtime\":null}]},\"request\":null}'"
      ]
     },
     "execution_count": 5,
     "metadata": {},
     "output_type": "execute_result"
    }
   ],
   "source": [
    "url.html.html"
   ]
  },
  {
   "cell_type": "markdown",
   "id": "c5f84034",
   "metadata": {},
   "source": [
    "# keep the website closed with using arender"
   ]
  },
  {
   "cell_type": "code",
   "execution_count": 6,
   "id": "13074633",
   "metadata": {},
   "outputs": [],
   "source": [
    "await url.html.arender(timeout = 100 , scrolldown=True)"
   ]
  },
  {
   "cell_type": "code",
   "execution_count": 7,
   "id": "69c392b4",
   "metadata": {},
   "outputs": [
    {
     "data": {
      "text/plain": [
       "'<html><head></head><body>{\"key\":null,\"response\":{\"code\":\"1\",\"errorCode\":\"0000\",\"message\":null,\"time\":\"2021-06-17 16:03:41\"},\"data\":{\"version\":{\"version\":1,\"last_up_time\":\"2021-06-17T16:03:41.8391639+08:00\",\"expired\":7200},\"value\":[{\"limit_id\":69,\"limit_type\":\"Common\",\"customer_type\":\"ALL\",\"by_level\":\"VipNo\",\"sku\":\"60209339\",\"max_num\":1,\"min_num\":0,\"remark\":null,\"lrp_level\":null,\"limit_sku\":null,\"buy_begintime\":null,\"buy_endtime\":null},{\"limit_id\":116,\"limit_type\":\"Common\",\"customer_type\":\"ALL\",\"by_level\":\"VipNo\",\"sku\":\"60213270\",\"max_num\":4,\"min_num\":0,\"remark\":null,\"lrp_level\":null,\"limit_sku\":null,\"buy_begintime\":null,\"buy_endtime\":null},{\"limit_id\":170,\"limit_type\":\"PT\",\"customer_type\":\"ALL\",\"by_level\":\"LRPList\",\"sku\":\"60211218\",\"max_num\":0,\"min_num\":0,\"remark\":\"仅限木兰银卡及以上顾客兑换。\",\"lrp_level\":\"2,3,4,5\",\"limit_sku\":null,\"buy_begintime\":null,\"buy_endtime\":null},{\"limit_id\":172,\"limit_type\":\"PT\",\"customer_type\":\"ALL\",\"by_level\":\"LRPList\",\"sku\":\"60212082\",\"max_num\":0,\"min_num\":0,\"remark\":\"仅限木兰银卡及以上顾客兑换。\",\"lrp_level\":\"2,3,4,5\",\"limit_sku\":null,\"buy_begintime\":null,\"buy_endtime\":null},{\"limit_id\":173,\"limit_type\":\"PT\",\"customer_type\":\"ALL\",\"by_level\":\"LRPList\",\"sku\":\"60205802\",\"max_num\":0,\"min_num\":0,\"remark\":\"仅限木兰银卡及以上顾客兑换。\",\"lrp_level\":\"2,3,4,5\",\"limit_sku\":null,\"buy_begintime\":null,\"buy_endtime\":null},{\"limit_id\":174,\"limit_type\":\"PT\",\"customer_type\":\"ALL\",\"by_level\":\"LRPList\",\"sku\":\"60209102\",\"max_num\":0,\"min_num\":0,\"remark\":\"仅限木兰银卡及以上顾客兑换。\",\"lrp_level\":\"2,3,4,5\",\"limit_sku\":null,\"buy_begintime\":null,\"buy_endtime\":null},{\"limit_id\":175,\"limit_type\":\"PT\",\"customer_type\":\"ALL\",\"by_level\":\"LRPList\",\"sku\":\"60201696\",\"max_num\":0,\"min_num\":0,\"remark\":\"仅限木兰银卡及以上顾客兑换。\",\"lrp_level\":\"2,3,4,5\",\"limit_sku\":null,\"buy_begintime\":null,\"buy_endtime\":null},{\"limit_id\":176,\"limit_type\":\"PT\",\"customer_type\":\"ALL\",\"by_level\":\"LRPList\",\"sku\":\"31521912\",\"max_num\":0,\"min_num\":0,\"remark\":\"仅限木兰银卡及以上顾客兑换。\",\"lrp_level\":\"2,3,4,5\",\"limit_sku\":null,\"buy_begintime\":null,\"buy_endtime\":null},{\"limit_id\":177,\"limit_type\":\"PT\",\"customer_type\":\"ALL\",\"by_level\":\"LRPList\",\"sku\":\"60208501\",\"max_num\":0,\"min_num\":0,\"remark\":\"仅限木兰银卡及以上顾客兑换。\",\"lrp_level\":\"2,3,4,5\",\"limit_sku\":null,\"buy_begintime\":null,\"buy_endtime\":null},{\"limit_id\":178,\"limit_type\":\"PT\",\"customer_type\":\"ALL\",\"by_level\":\"LRPList\",\"sku\":\"60206073\",\"max_num\":0,\"min_num\":0,\"remark\":\"仅限木兰银卡及以上顾客兑换。\",\"lrp_level\":\"2,3,4,5\",\"limit_sku\":null,\"buy_begintime\":null,\"buy_endtime\":null},{\"limit_id\":179,\"limit_type\":\"PT\",\"customer_type\":\"ALL\",\"by_level\":\"LRPList\",\"sku\":\"60207929\",\"max_num\":0,\"min_num\":0,\"remark\":\"仅限木兰银卡及以上顾客兑换。\",\"lrp_level\":\"2,3,4,5\",\"limit_sku\":null,\"buy_begintime\":null,\"buy_endtime\":null},{\"limit_id\":180,\"limit_type\":\"PT\",\"customer_type\":\"ALL\",\"by_level\":\"LRPList\",\"sku\":\"60202798\",\"max_num\":0,\"min_num\":0,\"remark\":\"仅限木兰银卡及以上顾客兑换。\",\"lrp_level\":\"2,3,4,5\",\"limit_sku\":null,\"buy_begintime\":null,\"buy_endtime\":null},{\"limit_id\":181,\"limit_type\":\"PT\",\"customer_type\":\"ALL\",\"by_level\":\"LRPList\",\"sku\":\"60210834\",\"max_num\":0,\"min_num\":0,\"remark\":\"仅限木兰银卡及以上顾客兑换。\",\"lrp_level\":\"2,3,4,5\",\"limit_sku\":null,\"buy_begintime\":null,\"buy_endtime\":null},{\"limit_id\":182,\"limit_type\":\"PT\",\"customer_type\":\"ALL\",\"by_level\":\"LRPList\",\"sku\":\"33152222\",\"max_num\":0,\"min_num\":0,\"remark\":\"仅限木兰银卡及以上顾客兑换。\",\"lrp_level\":\"2,3,4,5\",\"limit_sku\":null,\"buy_begintime\":null,\"buy_endtime\":null},{\"limit_id\":183,\"limit_type\":\"PT\",\"customer_type\":\"ALL\",\"by_level\":\"LRPList\",\"sku\":\"RE60212547\",\"max_num\":0,\"min_num\":0,\"remark\":\"仅限木兰银卡及以上顾客兑换。\",\"lrp_level\":\"2,3,4,5\",\"limit_sku\":null,\"buy_begintime\":null,\"buy_endtime\":null},{\"limit_id\":184,\"limit_type\":\"PT\",\"customer_type\":\"ALL\",\"by_level\":\"LRPList\",\"sku\":\"60213532\",\"max_num\":0,\"min_num\":0,\"remark\":\"仅限木兰银卡及以上顾客兑换。\",\"lrp_level\":\"2,3,4,5\",\"limit_sku\":null,\"buy_begintime\":null,\"buy_endtime\":null},{\"limit_id\":185,\"limit_type\":\"PT\",\"customer_type\":\"ALL\",\"by_level\":\"LRPList\",\"sku\":\"60210149\",\"max_num\":0,\"min_num\":0,\"remark\":\"仅限木兰银卡及以上顾客兑换。\",\"lrp_level\":\"2,3,4,5\",\"limit_sku\":null,\"buy_begintime\":null,\"buy_endtime\":null},{\"limit_id\":186,\"limit_type\":\"PT\",\"customer_type\":\"ALL\",\"by_level\":\"LRPList\",\"sku\":\"60210779\",\"max_num\":0,\"min_num\":0,\"remark\":\"仅限木兰银卡及以上顾客兑换。\",\"lrp_level\":\"2,3,4,5\",\"limit_sku\":null,\"buy_begintime\":null,\"buy_endtime\":null},{\"limit_id\":187,\"limit_type\":\"PT\",\"customer_type\":\"ALL\",\"by_level\":\"LRPList\",\"sku\":\"60211320\",\"max_num\":0,\"min_num\":0,\"remark\":\"仅限木兰银卡及以上顾客兑换。\",\"lrp_level\":\"2,3,4,5\",\"limit_sku\":null,\"buy_begintime\":null,\"buy_endtime\":null},{\"limit_id\":188,\"limit_type\":\"PT\",\"customer_type\":\"ALL\",\"by_level\":\"LRPList\",\"sku\":\"32120000\",\"max_num\":0,\"min_num\":0,\"remark\":\"仅限木兰银卡及以上顾客兑换。\",\"lrp_level\":\"2,3,4,5\",\"limit_sku\":null,\"buy_begintime\":null,\"buy_endtime\":null},{\"limit_id\":189,\"limit_type\":\"FirstSet\",\"customer_type\":\"ALL\",\"by_level\":\"VipNo\",\"sku\":\"60217271\",\"max_num\":1,\"min_num\":0,\"remark\":null,\"lrp_level\":\"0\",\"limit_sku\":null,\"buy_begintime\":null,\"buy_endtime\":null},{\"limit_id\":190,\"limit_type\":\"FirstSet\",\"customer_type\":\"ALL\",\"by_level\":\"VipNo\",\"sku\":\"60217272\",\"max_num\":1,\"min_num\":0,\"remark\":null,\"lrp_level\":\"0\",\"limit_sku\":null,\"buy_begintime\":null,\"buy_endtime\":null},{\"limit_id\":191,\"limit_type\":\"FirstSet\",\"customer_type\":\"ALL\",\"by_level\":\"VipNo\",\"sku\":\"60217276\",\"max_num\":1,\"min_num\":0,\"remark\":null,\"lrp_level\":\"0\",\"limit_sku\":null,\"buy_begintime\":null,\"buy_endtime\":null},{\"limit_id\":192,\"limit_type\":\"FirstSet\",\"customer_type\":\"ALL\",\"by_level\":\"VipNo\",\"sku\":\"60217277\",\"max_num\":1,\"min_num\":0,\"remark\":null,\"lrp_level\":\"0\",\"limit_sku\":null,\"buy_begintime\":null,\"buy_endtime\":null},{\"limit_id\":193,\"limit_type\":\"FirstSet\",\"customer_type\":\"ALL\",\"by_level\":\"VipNo\",\"sku\":\"60217270\",\"max_num\":1,\"min_num\":0,\"remark\":null,\"lrp_level\":\"0\",\"limit_sku\":null,\"buy_begintime\":null,\"buy_endtime\":null},{\"limit_id\":195,\"limit_type\":\"PT\",\"customer_type\":\"ALL\",\"by_level\":\"LRPList\",\"sku\":\"60210594\",\"max_num\":0,\"min_num\":0,\"remark\":\"仅限木兰银卡及以上顾客兑换。\",\"lrp_level\":\"2,3,4,5\",\"limit_sku\":null,\"buy_begintime\":null,\"buy_endtime\":null},{\"limit_id\":196,\"limit_type\":\"PT\",\"customer_type\":\"ALL\",\"by_level\":\"LRPList\",\"sku\":\"60213933\",\"max_num\":0,\"min_num\":0,\"remark\":\"仅限木兰银卡及以上顾客兑换。\",\"lrp_level\":\"2,3,4,5\",\"limit_sku\":null,\"buy_begintime\":null,\"buy_endtime\":null},{\"limit_id\":197,\"limit_type\":\"PT\",\"customer_type\":\"ALL\",\"by_level\":\"LRPList\",\"sku\":\"60207851\",\"max_num\":0,\"min_num\":0,\"remark\":\"仅限木兰银卡及以上顾客兑换。\",\"lrp_level\":\"2,3,4,5\",\"limit_sku\":null,\"buy_begintime\":null,\"buy_endtime\":null},{\"limit_id\":198,\"limit_type\":\"PT\",\"customer_type\":\"ALL\",\"by_level\":\"LRPList\",\"sku\":\"RE60207776\",\"max_num\":0,\"min_num\":0,\"remark\":\"仅限木兰银卡及以上顾客兑换。\",\"lrp_level\":\"2,3,4,5\",\"limit_sku\":null,\"buy_begintime\":null,\"buy_endtime\":null},{\"limit_id\":199,\"limit_type\":\"PT\",\"customer_type\":\"ALL\",\"by_level\":\"LRPList\",\"sku\":\"RE60207219\",\"max_num\":0,\"min_num\":0,\"remark\":\"仅限木兰银卡及以上顾客兑换。\",\"lrp_level\":\"2,3,4,5\",\"limit_sku\":null,\"buy_begintime\":null,\"buy_endtime\":null},{\"limit_id\":200,\"limit_type\":\"PT\",\"customer_type\":\"ALL\",\"by_level\":\"LRPList\",\"sku\":\"RE60207217\",\"max_num\":0,\"min_num\":0,\"remark\":\"仅限木兰银卡及以上顾客兑换。\",\"lrp_level\":\"2,3,4,5\",\"limit_sku\":null,\"buy_begintime\":null,\"buy_endtime\":null},{\"limit_id\":201,\"limit_type\":\"PT\",\"customer_type\":\"ALL\",\"by_level\":\"LRPList\",\"sku\":\"RE60207850\",\"max_num\":0,\"min_num\":0,\"remark\":\"仅限木兰银卡及以上顾客兑换。\",\"lrp_level\":\"2,3,4,5\",\"limit_sku\":null,\"buy_begintime\":null,\"buy_endtime\":null},{\"limit_id\":202,\"limit_type\":\"PT\",\"customer_type\":\"ALL\",\"by_level\":\"LRPList\",\"sku\":\"RE60207845\",\"max_num\":0,\"min_num\":0,\"remark\":\"仅限木兰银卡及以上顾客兑换。\",\"lrp_level\":\"2,3,4,5\",\"limit_sku\":null,\"buy_begintime\":null,\"buy_endtime\":null},{\"limit_id\":203,\"limit_type\":\"PT\",\"customer_type\":\"ALL\",\"by_level\":\"LRPList\",\"sku\":\"RE60213965\",\"max_num\":0,\"min_num\":0,\"remark\":\"仅限木兰银卡及以上顾客兑换。\",\"lrp_level\":\"2,3,4,5\",\"limit_sku\":null,\"buy_begintime\":null,\"buy_endtime\":null},{\"limit_id\":204,\"limit_type\":\"PT\",\"customer_type\":\"ALL\",\"by_level\":\"LRPList\",\"sku\":\"RE60213966\",\"max_num\":0,\"min_num\":0,\"remark\":\"仅限木兰银卡及以上顾客兑换。\",\"lrp_level\":\"2,3,4,5\",\"limit_sku\":null,\"buy_begintime\":null,\"buy_endtime\":null},{\"limit_id\":205,\"limit_type\":\"PT\",\"customer_type\":\"ALL\",\"by_level\":\"LRPList\",\"sku\":\"RE60209607\",\"max_num\":0,\"min_num\":0,\"remark\":\"仅限木兰银卡及以上顾客兑换。\",\"lrp_level\":\"2,3,4,5\",\"limit_sku\":null,\"buy_begintime\":null,\"buy_endtime\":null},{\"limit_id\":206,\"limit_type\":\"PT\",\"customer_type\":\"ALL\",\"by_level\":\"LRPList\",\"sku\":\"60212084\",\"max_num\":0,\"min_num\":0,\"remark\":\"仅限木兰银卡及以上顾客兑换。\",\"lrp_level\":\"2,3,4,5\",\"limit_sku\":null,\"buy_begintime\":null,\"buy_endtime\":null},{\"limit_id\":207,\"limit_type\":\"PT\",\"customer_type\":\"ALL\",\"by_level\":\"LRPList\",\"sku\":\"60212035\",\"max_num\":0,\"min_num\":0,\"remark\":\"仅限木兰银卡及以上顾客兑换。\",\"lrp_level\":\"2,3,4,5\",\"limit_sku\":null,\"buy_begintime\":null,\"buy_endtime\":null},{\"limit_id\":208,\"limit_type\":\"PT\",\"customer_type\":\"ALL\",\"by_level\":\"LRPList\",\"sku\":\"60206111\",\"max_num\":0,\"min_num\":0,\"remark\":\"仅限木兰银卡及以上顾客兑换。\",\"lrp_level\":\"2,3,4,5\",\"limit_sku\":null,\"buy_begintime\":null,\"buy_endtime\":null},{\"limit_id\":209,\"limit_type\":\"PT\",\"customer_type\":\"ALL\",\"by_level\":\"LRPList\",\"sku\":\"60205383\",\"max_num\":0,\"min_num\":0,\"remark\":\"仅限木兰银卡及以上顾客兑换。\",\"lrp_level\":\"2,3,4,5\",\"limit_sku\":null,\"buy_begintime\":null,\"buy_endtime\":null},{\"limit_id\":210,\"limit_type\":\"PT\",\"customer_type\":\"ALL\",\"by_level\":\"LRPList\",\"sku\":\"60200046\",\"max_num\":0,\"min_num\":0,\"remark\":\"仅限木兰银卡及以上顾客兑换。\",\"lrp_level\":\"2,3,4,5\",\"limit_sku\":null,\"buy_begintime\":null,\"buy_endtime\":null},{\"limit_id\":211,\"limit_type\":\"PT\",\"customer_type\":\"ALL\",\"by_level\":\"LRPList\",\"sku\":\"60210791\",\"max_num\":0,\"min_num\":0,\"remark\":\"仅限木兰银卡及以上顾客兑换。\",\"lrp_level\":\"2,3,4,5\",\"limit_sku\":null,\"buy_begintime\":null,\"buy_endtime\":null},{\"limit_id\":212,\"limit_type\":\"PT\",\"customer_type\":\"ALL\",\"by_level\":\"LRPList\",\"sku\":\"60211372\",\"max_num\":0,\"min_num\":0,\"remark\":\"仅限木兰银卡及以上顾客兑换。\",\"lrp_level\":\"2,3,4,5\",\"limit_sku\":null,\"buy_begintime\":null,\"buy_endtime\":null}]},\"request\":null}</body></html>'"
      ]
     },
     "execution_count": 7,
     "metadata": {},
     "output_type": "execute_result"
    }
   ],
   "source": [
    "url.html.html"
   ]
  },
  {
   "cell_type": "code",
   "execution_count": 8,
   "id": "1d17409c",
   "metadata": {},
   "outputs": [
    {
     "data": {
      "text/plain": [
       "[]"
      ]
     },
     "execution_count": 8,
     "metadata": {},
     "output_type": "execute_result"
    }
   ],
   "source": [
    "[b.text for b in url.html.xpath(\"/html/body/div[1]/div/div/div[1]/div[3]/div/div/div/div[5]/ul/li[2]/div/div[1]/p[1]/span[1]/i\")]"
   ]
  },
  {
   "cell_type": "code",
   "execution_count": 9,
   "id": "2b5bb6c8",
   "metadata": {},
   "outputs": [
    {
     "data": {
      "text/plain": [
       "[]"
      ]
     },
     "execution_count": 9,
     "metadata": {},
     "output_type": "execute_result"
    }
   ],
   "source": [
    "[b for b in url.html.xpath(\"/html/body/div[1]/div/div/div[1]/div[3]/div/div/div/div[5]/ul/li[3]/div/div[1]/p[1]/span[1]/text()\")]"
   ]
  },
  {
   "cell_type": "code",
   "execution_count": 10,
   "id": "9e15c4a2",
   "metadata": {},
   "outputs": [
    {
     "data": {
      "text/plain": [
       "[]"
      ]
     },
     "execution_count": 10,
     "metadata": {},
     "output_type": "execute_result"
    }
   ],
   "source": [
    "[b.text for b in url.html.xpath(\"/html/body/div[1]/div/div/div[1]/div[3]/div/div/div/div[5]/ul/li[4]/div/div[1]/div/a/h2\")]"
   ]
  },
  {
   "cell_type": "code",
   "execution_count": 11,
   "id": "97d2b63e",
   "metadata": {},
   "outputs": [
    {
     "data": {
      "text/plain": [
       "['{\"key\":null,\"response\":{\"code\":\"1\",\"errorCode\":\"0000\",\"message\":null,\"time\":\"2021-06-17 16:03:41\"},\"data\":{\"version\":{\"version\":1,\"last_up_time\":\"2021-06-17T16:03:41.8391639+08:00\",\"expired\":7200},\"value\":[{\"limit_id\":69,\"limit_type\":\"Common\",\"customer_type\":\"ALL\",\"by_level\":\"VipNo\",\"sku\":\"60209339\",\"max_num\":1,\"min_num\":0,\"remark\":null,\"lrp_level\":null,\"limit_sku\":null,\"buy_begintime\":null,\"buy_endtime\":null},{\"limit_id\":116,\"limit_type\":\"Common\",\"customer_type\":\"ALL\",\"by_level\":\"VipNo\",\"sku\":\"60213270\",\"max_num\":4,\"min_num\":0,\"remark\":null,\"lrp_level\":null,\"limit_sku\":null,\"buy_begintime\":null,\"buy_endtime\":null},{\"limit_id\":170,\"limit_type\":\"PT\",\"customer_type\":\"ALL\",\"by_level\":\"LRPList\",\"sku\":\"60211218\",\"max_num\":0,\"min_num\":0,\"remark\":\"仅限木兰银卡及以上顾客兑换。\",\"lrp_level\":\"2,3,4,5\",\"limit_sku\":null,\"buy_begintime\":null,\"buy_endtime\":null},{\"limit_id\":172,\"limit_type\":\"PT\",\"customer_type\":\"ALL\",\"by_level\":\"LRPList\",\"sku\":\"60212082\",\"max_num\":0,\"min_num\":0,\"remark\":\"仅限木兰银卡及以上顾客兑换。\",\"lrp_level\":\"2,3,4,5\",\"limit_sku\":null,\"buy_begintime\":null,\"buy_endtime\":null},{\"limit_id\":173,\"limit_type\":\"PT\",\"customer_type\":\"ALL\",\"by_level\":\"LRPList\",\"sku\":\"60205802\",\"max_num\":0,\"min_num\":0,\"remark\":\"仅限木兰银卡及以上顾客兑换。\",\"lrp_level\":\"2,3,4,5\",\"limit_sku\":null,\"buy_begintime\":null,\"buy_endtime\":null},{\"limit_id\":174,\"limit_type\":\"PT\",\"customer_type\":\"ALL\",\"by_level\":\"LRPList\",\"sku\":\"60209102\",\"max_num\":0,\"min_num\":0,\"remark\":\"仅限木兰银卡及以上顾客兑换。\",\"lrp_level\":\"2,3,4,5\",\"limit_sku\":null,\"buy_begintime\":null,\"buy_endtime\":null},{\"limit_id\":175,\"limit_type\":\"PT\",\"customer_type\":\"ALL\",\"by_level\":\"LRPList\",\"sku\":\"60201696\",\"max_num\":0,\"min_num\":0,\"remark\":\"仅限木兰银卡及以上顾客兑换。\",\"lrp_level\":\"2,3,4,5\",\"limit_sku\":null,\"buy_begintime\":null,\"buy_endtime\":null},{\"limit_id\":176,\"limit_type\":\"PT\",\"customer_type\":\"ALL\",\"by_level\":\"LRPList\",\"sku\":\"31521912\",\"max_num\":0,\"min_num\":0,\"remark\":\"仅限木兰银卡及以上顾客兑换。\",\"lrp_level\":\"2,3,4,5\",\"limit_sku\":null,\"buy_begintime\":null,\"buy_endtime\":null},{\"limit_id\":177,\"limit_type\":\"PT\",\"customer_type\":\"ALL\",\"by_level\":\"LRPList\",\"sku\":\"60208501\",\"max_num\":0,\"min_num\":0,\"remark\":\"仅限木兰银卡及以上顾客兑换。\",\"lrp_level\":\"2,3,4,5\",\"limit_sku\":null,\"buy_begintime\":null,\"buy_endtime\":null},{\"limit_id\":178,\"limit_type\":\"PT\",\"customer_type\":\"ALL\",\"by_level\":\"LRPList\",\"sku\":\"60206073\",\"max_num\":0,\"min_num\":0,\"remark\":\"仅限木兰银卡及以上顾客兑换。\",\"lrp_level\":\"2,3,4,5\",\"limit_sku\":null,\"buy_begintime\":null,\"buy_endtime\":null},{\"limit_id\":179,\"limit_type\":\"PT\",\"customer_type\":\"ALL\",\"by_level\":\"LRPList\",\"sku\":\"60207929\",\"max_num\":0,\"min_num\":0,\"remark\":\"仅限木兰银卡及以上顾客兑换。\",\"lrp_level\":\"2,3,4,5\",\"limit_sku\":null,\"buy_begintime\":null,\"buy_endtime\":null},{\"limit_id\":180,\"limit_type\":\"PT\",\"customer_type\":\"ALL\",\"by_level\":\"LRPList\",\"sku\":\"60202798\",\"max_num\":0,\"min_num\":0,\"remark\":\"仅限木兰银卡及以上顾客兑换。\",\"lrp_level\":\"2,3,4,5\",\"limit_sku\":null,\"buy_begintime\":null,\"buy_endtime\":null},{\"limit_id\":181,\"limit_type\":\"PT\",\"customer_type\":\"ALL\",\"by_level\":\"LRPList\",\"sku\":\"60210834\",\"max_num\":0,\"min_num\":0,\"remark\":\"仅限木兰银卡及以上顾客兑换。\",\"lrp_level\":\"2,3,4,5\",\"limit_sku\":null,\"buy_begintime\":null,\"buy_endtime\":null},{\"limit_id\":182,\"limit_type\":\"PT\",\"customer_type\":\"ALL\",\"by_level\":\"LRPList\",\"sku\":\"33152222\",\"max_num\":0,\"min_num\":0,\"remark\":\"仅限木兰银卡及以上顾客兑换。\",\"lrp_level\":\"2,3,4,5\",\"limit_sku\":null,\"buy_begintime\":null,\"buy_endtime\":null},{\"limit_id\":183,\"limit_type\":\"PT\",\"customer_type\":\"ALL\",\"by_level\":\"LRPList\",\"sku\":\"RE60212547\",\"max_num\":0,\"min_num\":0,\"remark\":\"仅限木兰银卡及以上顾客兑换。\",\"lrp_level\":\"2,3,4,5\",\"limit_sku\":null,\"buy_begintime\":null,\"buy_endtime\":null},{\"limit_id\":184,\"limit_type\":\"PT\",\"customer_type\":\"ALL\",\"by_level\":\"LRPList\",\"sku\":\"60213532\",\"max_num\":0,\"min_num\":0,\"remark\":\"仅限木兰银卡及以上顾客兑换。\",\"lrp_level\":\"2,3,4,5\",\"limit_sku\":null,\"buy_begintime\":null,\"buy_endtime\":null},{\"limit_id\":185,\"limit_type\":\"PT\",\"customer_type\":\"ALL\",\"by_level\":\"LRPList\",\"sku\":\"60210149\",\"max_num\":0,\"min_num\":0,\"remark\":\"仅限木兰银卡及以上顾客兑换。\",\"lrp_level\":\"2,3,4,5\",\"limit_sku\":null,\"buy_begintime\":null,\"buy_endtime\":null},{\"limit_id\":186,\"limit_type\":\"PT\",\"customer_type\":\"ALL\",\"by_level\":\"LRPList\",\"sku\":\"60210779\",\"max_num\":0,\"min_num\":0,\"remark\":\"仅限木兰银卡及以上顾客兑换。\",\"lrp_level\":\"2,3,4,5\",\"limit_sku\":null,\"buy_begintime\":null,\"buy_endtime\":null},{\"limit_id\":187,\"limit_type\":\"PT\",\"customer_type\":\"ALL\",\"by_level\":\"LRPList\",\"sku\":\"60211320\",\"max_num\":0,\"min_num\":0,\"remark\":\"仅限木兰银卡及以上顾客兑换。\",\"lrp_level\":\"2,3,4,5\",\"limit_sku\":null,\"buy_begintime\":null,\"buy_endtime\":null},{\"limit_id\":188,\"limit_type\":\"PT\",\"customer_type\":\"ALL\",\"by_level\":\"LRPList\",\"sku\":\"32120000\",\"max_num\":0,\"min_num\":0,\"remark\":\"仅限木兰银卡及以上顾客兑换。\",\"lrp_level\":\"2,3,4,5\",\"limit_sku\":null,\"buy_begintime\":null,\"buy_endtime\":null},{\"limit_id\":189,\"limit_type\":\"FirstSet\",\"customer_type\":\"ALL\",\"by_level\":\"VipNo\",\"sku\":\"60217271\",\"max_num\":1,\"min_num\":0,\"remark\":null,\"lrp_level\":\"0\",\"limit_sku\":null,\"buy_begintime\":null,\"buy_endtime\":null},{\"limit_id\":190,\"limit_type\":\"FirstSet\",\"customer_type\":\"ALL\",\"by_level\":\"VipNo\",\"sku\":\"60217272\",\"max_num\":1,\"min_num\":0,\"remark\":null,\"lrp_level\":\"0\",\"limit_sku\":null,\"buy_begintime\":null,\"buy_endtime\":null},{\"limit_id\":191,\"limit_type\":\"FirstSet\",\"customer_type\":\"ALL\",\"by_level\":\"VipNo\",\"sku\":\"60217276\",\"max_num\":1,\"min_num\":0,\"remark\":null,\"lrp_level\":\"0\",\"limit_sku\":null,\"buy_begintime\":null,\"buy_endtime\":null},{\"limit_id\":192,\"limit_type\":\"FirstSet\",\"customer_type\":\"ALL\",\"by_level\":\"VipNo\",\"sku\":\"60217277\",\"max_num\":1,\"min_num\":0,\"remark\":null,\"lrp_level\":\"0\",\"limit_sku\":null,\"buy_begintime\":null,\"buy_endtime\":null},{\"limit_id\":193,\"limit_type\":\"FirstSet\",\"customer_type\":\"ALL\",\"by_level\":\"VipNo\",\"sku\":\"60217270\",\"max_num\":1,\"min_num\":0,\"remark\":null,\"lrp_level\":\"0\",\"limit_sku\":null,\"buy_begintime\":null,\"buy_endtime\":null},{\"limit_id\":195,\"limit_type\":\"PT\",\"customer_type\":\"ALL\",\"by_level\":\"LRPList\",\"sku\":\"60210594\",\"max_num\":0,\"min_num\":0,\"remark\":\"仅限木兰银卡及以上顾客兑换。\",\"lrp_level\":\"2,3,4,5\",\"limit_sku\":null,\"buy_begintime\":null,\"buy_endtime\":null},{\"limit_id\":196,\"limit_type\":\"PT\",\"customer_type\":\"ALL\",\"by_level\":\"LRPList\",\"sku\":\"60213933\",\"max_num\":0,\"min_num\":0,\"remark\":\"仅限木兰银卡及以上顾客兑换。\",\"lrp_level\":\"2,3,4,5\",\"limit_sku\":null,\"buy_begintime\":null,\"buy_endtime\":null},{\"limit_id\":197,\"limit_type\":\"PT\",\"customer_type\":\"ALL\",\"by_level\":\"LRPList\",\"sku\":\"60207851\",\"max_num\":0,\"min_num\":0,\"remark\":\"仅限木兰银卡及以上顾客兑换。\",\"lrp_level\":\"2,3,4,5\",\"limit_sku\":null,\"buy_begintime\":null,\"buy_endtime\":null},{\"limit_id\":198,\"limit_type\":\"PT\",\"customer_type\":\"ALL\",\"by_level\":\"LRPList\",\"sku\":\"RE60207776\",\"max_num\":0,\"min_num\":0,\"remark\":\"仅限木兰银卡及以上顾客兑换。\",\"lrp_level\":\"2,3,4,5\",\"limit_sku\":null,\"buy_begintime\":null,\"buy_endtime\":null},{\"limit_id\":199,\"limit_type\":\"PT\",\"customer_type\":\"ALL\",\"by_level\":\"LRPList\",\"sku\":\"RE60207219\",\"max_num\":0,\"min_num\":0,\"remark\":\"仅限木兰银卡及以上顾客兑换。\",\"lrp_level\":\"2,3,4,5\",\"limit_sku\":null,\"buy_begintime\":null,\"buy_endtime\":null},{\"limit_id\":200,\"limit_type\":\"PT\",\"customer_type\":\"ALL\",\"by_level\":\"LRPList\",\"sku\":\"RE60207217\",\"max_num\":0,\"min_num\":0,\"remark\":\"仅限木兰银卡及以上顾客兑换。\",\"lrp_level\":\"2,3,4,5\",\"limit_sku\":null,\"buy_begintime\":null,\"buy_endtime\":null},{\"limit_id\":201,\"limit_type\":\"PT\",\"customer_type\":\"ALL\",\"by_level\":\"LRPList\",\"sku\":\"RE60207850\",\"max_num\":0,\"min_num\":0,\"remark\":\"仅限木兰银卡及以上顾客兑换。\",\"lrp_level\":\"2,3,4,5\",\"limit_sku\":null,\"buy_begintime\":null,\"buy_endtime\":null},{\"limit_id\":202,\"limit_type\":\"PT\",\"customer_type\":\"ALL\",\"by_level\":\"LRPList\",\"sku\":\"RE60207845\",\"max_num\":0,\"min_num\":0,\"remark\":\"仅限木兰银卡及以上顾客兑换。\",\"lrp_level\":\"2,3,4,5\",\"limit_sku\":null,\"buy_begintime\":null,\"buy_endtime\":null},{\"limit_id\":203,\"limit_type\":\"PT\",\"customer_type\":\"ALL\",\"by_level\":\"LRPList\",\"sku\":\"RE60213965\",\"max_num\":0,\"min_num\":0,\"remark\":\"仅限木兰银卡及以上顾客兑换。\",\"lrp_level\":\"2,3,4,5\",\"limit_sku\":null,\"buy_begintime\":null,\"buy_endtime\":null},{\"limit_id\":204,\"limit_type\":\"PT\",\"customer_type\":\"ALL\",\"by_level\":\"LRPList\",\"sku\":\"RE60213966\",\"max_num\":0,\"min_num\":0,\"remark\":\"仅限木兰银卡及以上顾客兑换。\",\"lrp_level\":\"2,3,4,5\",\"limit_sku\":null,\"buy_begintime\":null,\"buy_endtime\":null},{\"limit_id\":205,\"limit_type\":\"PT\",\"customer_type\":\"ALL\",\"by_level\":\"LRPList\",\"sku\":\"RE60209607\",\"max_num\":0,\"min_num\":0,\"remark\":\"仅限木兰银卡及以上顾客兑换。\",\"lrp_level\":\"2,3,4,5\",\"limit_sku\":null,\"buy_begintime\":null,\"buy_endtime\":null},{\"limit_id\":206,\"limit_type\":\"PT\",\"customer_type\":\"ALL\",\"by_level\":\"LRPList\",\"sku\":\"60212084\",\"max_num\":0,\"min_num\":0,\"remark\":\"仅限木兰银卡及以上顾客兑换。\",\"lrp_level\":\"2,3,4,5\",\"limit_sku\":null,\"buy_begintime\":null,\"buy_endtime\":null},{\"limit_id\":207,\"limit_type\":\"PT\",\"customer_type\":\"ALL\",\"by_level\":\"LRPList\",\"sku\":\"60212035\",\"max_num\":0,\"min_num\":0,\"remark\":\"仅限木兰银卡及以上顾客兑换。\",\"lrp_level\":\"2,3,4,5\",\"limit_sku\":null,\"buy_begintime\":null,\"buy_endtime\":null},{\"limit_id\":208,\"limit_type\":\"PT\",\"customer_type\":\"ALL\",\"by_level\":\"LRPList\",\"sku\":\"60206111\",\"max_num\":0,\"min_num\":0,\"remark\":\"仅限木兰银卡及以上顾客兑换。\",\"lrp_level\":\"2,3,4,5\",\"limit_sku\":null,\"buy_begintime\":null,\"buy_endtime\":null},{\"limit_id\":209,\"limit_type\":\"PT\",\"customer_type\":\"ALL\",\"by_level\":\"LRPList\",\"sku\":\"60205383\",\"max_num\":0,\"min_num\":0,\"remark\":\"仅限木兰银卡及以上顾客兑换。\",\"lrp_level\":\"2,3,4,5\",\"limit_sku\":null,\"buy_begintime\":null,\"buy_endtime\":null},{\"limit_id\":210,\"limit_type\":\"PT\",\"customer_type\":\"ALL\",\"by_level\":\"LRPList\",\"sku\":\"60200046\",\"max_num\":0,\"min_num\":0,\"remark\":\"仅限木兰银卡及以上顾客兑换。\",\"lrp_level\":\"2,3,4,5\",\"limit_sku\":null,\"buy_begintime\":null,\"buy_endtime\":null},{\"limit_id\":211,\"limit_type\":\"PT\",\"customer_type\":\"ALL\",\"by_level\":\"LRPList\",\"sku\":\"60210791\",\"max_num\":0,\"min_num\":0,\"remark\":\"仅限木兰银卡及以上顾客兑换。\",\"lrp_level\":\"2,3,4,5\",\"limit_sku\":null,\"buy_begintime\":null,\"buy_endtime\":null},{\"limit_id\":212,\"limit_type\":\"PT\",\"customer_type\":\"ALL\",\"by_level\":\"LRPList\",\"sku\":\"60211372\",\"max_num\":0,\"min_num\":0,\"remark\":\"仅限木兰银卡及以上顾客兑换。\",\"lrp_level\":\"2,3,4,5\",\"limit_sku\":null,\"buy_begintime\":null,\"buy_endtime\":null}]},\"request\":null}']"
      ]
     },
     "execution_count": 11,
     "metadata": {},
     "output_type": "execute_result"
    }
   ],
   "source": [
    "data = [b.text for b in  url.html.find(\"body\")]\n",
    "data"
   ]
  },
  {
   "cell_type": "code",
   "execution_count": null,
   "id": "98b337ea",
   "metadata": {},
   "outputs": [],
   "source": [
    "data[4].split(\"\\n\")"
   ]
  },
  {
   "cell_type": "code",
   "execution_count": null,
   "id": "35518a48",
   "metadata": {},
   "outputs": [],
   "source": [
    "k = [a.split(\"\\n\") for a in data]\n",
    "k"
   ]
  },
  {
   "cell_type": "code",
   "execution_count": null,
   "id": "ee4580e6",
   "metadata": {},
   "outputs": [],
   "source": []
  },
  {
   "cell_type": "code",
   "execution_count": null,
   "id": "9aea17f6",
   "metadata": {},
   "outputs": [],
   "source": [
    "a = pd.DataFrame(k)\n",
    "a"
   ]
  },
  {
   "cell_type": "code",
   "execution_count": null,
   "id": "643da823",
   "metadata": {},
   "outputs": [],
   "source": [
    "b = a.dropna( 0 , how= \"all\" , thresh= 5)"
   ]
  },
  {
   "cell_type": "code",
   "execution_count": null,
   "id": "bc18f133",
   "metadata": {},
   "outputs": [],
   "source": [
    "c = b.reset_index()\n",
    "c"
   ]
  },
  {
   "cell_type": "code",
   "execution_count": null,
   "id": "5e984995",
   "metadata": {},
   "outputs": [],
   "source": [
    "help()"
   ]
  },
  {
   "cell_type": "code",
   "execution_count": null,
   "id": "1045fdcc",
   "metadata": {},
   "outputs": [],
   "source": []
  }
 ],
 "metadata": {
  "kernelspec": {
   "display_name": "Python 3",
   "language": "python",
   "name": "python3"
  },
  "language_info": {
   "codemirror_mode": {
    "name": "ipython",
    "version": 3
   },
   "file_extension": ".py",
   "mimetype": "text/x-python",
   "name": "python",
   "nbconvert_exporter": "python",
   "pygments_lexer": "ipython3",
   "version": "3.8.8"
  }
 },
 "nbformat": 4,
 "nbformat_minor": 5
}
