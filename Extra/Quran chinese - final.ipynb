{
 "cells": [
  {
   "cell_type": "code",
   "execution_count": 1,
   "id": "2d170e67",
   "metadata": {},
   "outputs": [],
   "source": [
    "from bs4 import BeautifulSoup\n",
    "from selenium import webdriver\n",
    "from requests_html import AsyncHTMLSession\n",
    "from requests_html import HTML\n",
    "import pandas as pd\n",
    "import numpy as np\n",
    "import dtale\n",
    "import re"
   ]
  },
  {
   "cell_type": "code",
   "execution_count": 2,
   "id": "88087231",
   "metadata": {},
   "outputs": [],
   "source": [
    "#url = \"https://islam.org.hk//cqse/surah.asp?surahno=2\"\n",
    "\n",
    "# myElem = WebDriverWait(browser, delay).until(EC.presence_of_element_located((By.ID, 'IdOfMyElement')))"
   ]
  },
  {
   "cell_type": "code",
   "execution_count": 3,
   "id": "b653eeba",
   "metadata": {},
   "outputs": [],
   "source": [
    "driver = webdriver.Firefox(executable_path=r'C:\\\\Users\\\\User\\\\Downloads\\\\geckodriver.exe')\n"
   ]
  },
  {
   "cell_type": "code",
   "execution_count": 4,
   "id": "af5f3201",
   "metadata": {},
   "outputs": [],
   "source": [
    "see = []"
   ]
  },
  {
   "cell_type": "code",
   "execution_count": 5,
   "id": "1448b6c7",
   "metadata": {},
   "outputs": [],
   "source": [
    "for i in range(1 , 115):\n",
    "    \n",
    "    url = \"https://islam.org.hk//cqse/surah.asp?surahno={}\".format(i)\n",
    "    driver.get(url)\n",
    "    soup = HTML(html = driver.page_source)\n",
    "    data = [b.text for b in  soup.find(\"td\")]\n",
    "    big_list = data\n",
    "    x = 11\n",
    "    list_of_lists = [big_list[i:i+x] for i in range(0, len(big_list), x)]\n",
    "   \n",
    "    # [[1, 2, 3, 4], [5, 6, 7, 8], [9, 10, 11, 12], [13, 14, 15, 16]]\n",
    "    \n",
    "    see.append(list_of_lists)"
   ]
  },
  {
   "cell_type": "code",
   "execution_count": 33,
   "id": "b43eaf34",
   "metadata": {},
   "outputs": [],
   "source": [
    "flat_list = [item for sublist in see for item in sublist]"
   ]
  },
  {
   "cell_type": "code",
   "execution_count": 34,
   "id": "912acf68",
   "metadata": {},
   "outputs": [
    {
     "data": {
      "text/plain": [
       "6350"
      ]
     },
     "execution_count": 34,
     "metadata": {},
     "output_type": "execute_result"
    }
   ],
   "source": [
    "len(flat_list)"
   ]
  },
  {
   "cell_type": "code",
   "execution_count": 39,
   "id": "f4abcb2f",
   "metadata": {},
   "outputs": [],
   "source": [
    "dataa = pd.DataFrame(flat_list )"
   ]
  },
  {
   "cell_type": "code",
   "execution_count": 49,
   "id": "cc1e2b78",
   "metadata": {},
   "outputs": [],
   "source": [
    "final = dataa"
   ]
  },
  {
   "cell_type": "code",
   "execution_count": null,
   "id": "373920cc",
   "metadata": {},
   "outputs": [],
   "source": []
  },
  {
   "cell_type": "code",
   "execution_count": 36,
   "id": "a067cf56",
   "metadata": {},
   "outputs": [],
   "source": [
    "#final  = dataa.rename(columns=dataa.iloc[0]).drop(dataa.index[0])"
   ]
  },
  {
   "cell_type": "code",
   "execution_count": 51,
   "id": "0c4166ae",
   "metadata": {},
   "outputs": [
    {
     "data": {
      "text/html": [
       "<div>\n",
       "<style scoped>\n",
       "    .dataframe tbody tr th:only-of-type {\n",
       "        vertical-align: middle;\n",
       "    }\n",
       "\n",
       "    .dataframe tbody tr th {\n",
       "        vertical-align: top;\n",
       "    }\n",
       "\n",
       "    .dataframe thead th {\n",
       "        text-align: right;\n",
       "    }\n",
       "</style>\n",
       "<table border=\"1\" class=\"dataframe\">\n",
       "  <thead>\n",
       "    <tr style=\"text-align: right;\">\n",
       "      <th></th>\n",
       "      <th>0</th>\n",
       "      <th>1</th>\n",
       "      <th>2</th>\n",
       "      <th>3</th>\n",
       "      <th>4</th>\n",
       "      <th>5</th>\n",
       "      <th>6</th>\n",
       "      <th>7</th>\n",
       "      <th>8</th>\n",
       "      <th>9</th>\n",
       "      <th>10</th>\n",
       "    </tr>\n",
       "  </thead>\n",
       "  <tbody>\n",
       "    <tr>\n",
       "      <th>0</th>\n",
       "      <td>章:節</td>\n",
       "      <td>馬堅譯本</td>\n",
       "      <td></td>\n",
       "      <td>王靜齋譯本</td>\n",
       "      <td></td>\n",
       "      <td>仝道章譯本</td>\n",
       "      <td></td>\n",
       "      <td>馬金鵬譯本</td>\n",
       "      <td></td>\n",
       "      <td>馬仲剛譯本</td>\n",
       "      <td></td>\n",
       "    </tr>\n",
       "    <tr>\n",
       "      <th>1</th>\n",
       "      <td>1 : 1</td>\n",
       "      <td>奉至仁至慈的真主之名</td>\n",
       "      <td></td>\n",
       "      <td>奉普慈特慈安拉之名</td>\n",
       "      <td></td>\n",
       "      <td>奉大仁大慈的安拉尊名</td>\n",
       "      <td></td>\n",
       "      <td>萬贊歸安拉\\n[注1]\\n——調養萬世的\\n[注2]\\n，</td>\n",
       "      <td></td>\n",
       "      <td>奉普慈特慈的安拉之名</td>\n",
       "      <td></td>\n",
       "    </tr>\n",
       "    <tr>\n",
       "      <th>2</th>\n",
       "      <td>1 : 2</td>\n",
       "      <td>一切讚頌，全歸真主，全世界的主，</td>\n",
       "      <td></td>\n",
       "      <td>讚頌安拉；眾世界的養主。</td>\n",
       "      <td></td>\n",
       "      <td>一切讚頌都屬於安拉——全世界的主</td>\n",
       "      <td></td>\n",
       "      <td>普慈特慈的\\n[注]\\n，</td>\n",
       "      <td></td>\n",
       "      <td>一切讚頌，全歸安拉——眾世界的主\\n[注]\\n，</td>\n",
       "      <td></td>\n",
       "    </tr>\n",
       "    <tr>\n",
       "      <th>3</th>\n",
       "      <td>1 : 3</td>\n",
       "      <td>至仁至慈的主，</td>\n",
       "      <td></td>\n",
       "      <td>普慈特慈的。</td>\n",
       "      <td></td>\n",
       "      <td>大仁的、大慈的，</td>\n",
       "      <td></td>\n",
       "      <td>掌管還報日\\n[注]\\n的主。</td>\n",
       "      <td></td>\n",
       "      <td>普慈的主，特慈的主，</td>\n",
       "      <td></td>\n",
       "    </tr>\n",
       "    <tr>\n",
       "      <th>4</th>\n",
       "      <td>1 : 4</td>\n",
       "      <td>報應日的主。</td>\n",
       "      <td></td>\n",
       "      <td>執掌還報日的。</td>\n",
       "      <td></td>\n",
       "      <td>審判日的主。</td>\n",
       "      <td></td>\n",
       "      <td>我們只崇拜你，我們只求你援助。</td>\n",
       "      <td></td>\n",
       "      <td>審判日的主。</td>\n",
       "      <td></td>\n",
       "    </tr>\n",
       "    <tr>\n",
       "      <th>...</th>\n",
       "      <td>...</td>\n",
       "      <td>...</td>\n",
       "      <td>...</td>\n",
       "      <td>...</td>\n",
       "      <td>...</td>\n",
       "      <td>...</td>\n",
       "      <td>...</td>\n",
       "      <td>...</td>\n",
       "      <td>...</td>\n",
       "      <td>...</td>\n",
       "      <td>...</td>\n",
       "    </tr>\n",
       "    <tr>\n",
       "      <th>6345</th>\n",
       "      <td>114 : 2</td>\n",
       "      <td>世人的君王 ,</td>\n",
       "      <td></td>\n",
       "      <td>執掌人類的主，</td>\n",
       "      <td></td>\n",
       "      <td>“（他是）人類的君主，”</td>\n",
       "      <td></td>\n",
       "      <td>掌管人類的\\n[注]\\n，</td>\n",
       "      <td></td>\n",
       "      <td>人類的掌權者\\n[注]\\n[安拉]，</td>\n",
       "      <td></td>\n",
       "    </tr>\n",
       "    <tr>\n",
       "      <th>6346</th>\n",
       "      <td>114 : 3</td>\n",
       "      <td>世人的神明 ,</td>\n",
       "      <td></td>\n",
       "      <td>人類敬拜的主，</td>\n",
       "      <td></td>\n",
       "      <td>“（他是）人類的真宰，”</td>\n",
       "      <td></td>\n",
       "      <td>人類的主宰求護佑，</td>\n",
       "      <td></td>\n",
       "      <td>人類應崇拜的主[安拉]保護，</td>\n",
       "      <td></td>\n",
       "    </tr>\n",
       "    <tr>\n",
       "      <th>6347</th>\n",
       "      <td>114 : 4</td>\n",
       "      <td>免遭潛伏的教唆者的毒害 ,</td>\n",
       "      <td></td>\n",
       "      <td>於暗唆的隱伏的，</td>\n",
       "      <td></td>\n",
       "      <td>“(使我)免于魔鬼的罪惡。”</td>\n",
       "      <td></td>\n",
       "      <td>從隱藏的魔鬼\\n[注]\\n唆使之歹壞上，</td>\n",
       "      <td></td>\n",
       "      <td>免遭潛伏的教唆者的傷害\\n[注]\\n。</td>\n",
       "      <td></td>\n",
       "    </tr>\n",
       "    <tr>\n",
       "      <th>6348</th>\n",
       "      <td>114 : 5</td>\n",
       "      <td>他在世人的胸中教唆 ,</td>\n",
       "      <td></td>\n",
       "      <td>就是那暗唆於人的胸間的——</td>\n",
       "      <td></td>\n",
       "      <td>“它向人類的心中投入(罪惡的細語）。”</td>\n",
       "      <td></td>\n",
       "      <td>那在人類的心中唆使的。</td>\n",
       "      <td></td>\n",
       "      <td>他[教唆者]在人類的心中教唆[做壞事]，</td>\n",
       "      <td></td>\n",
       "    </tr>\n",
       "    <tr>\n",
       "      <th>6349</th>\n",
       "      <td>114 : 6</td>\n",
       "      <td>他是屬於精靈和人類的。</td>\n",
       "      <td></td>\n",
       "      <td>鎮呢與人類的惡上祈求護佑。</td>\n",
       "      <td></td>\n",
       "      <td>“(它是來自)神靈和人類的當中。”</td>\n",
       "      <td></td>\n",
       "      <td>來自鎮尼和人類的\\n[注]\\n。</td>\n",
       "      <td></td>\n",
       "      <td>他來自精靈和人類。”</td>\n",
       "      <td></td>\n",
       "    </tr>\n",
       "  </tbody>\n",
       "</table>\n",
       "<p>6350 rows × 11 columns</p>\n",
       "</div>"
      ],
      "text/plain": [
       "           0                 1  2              3  4                    5  6   \\\n",
       "0         章:節              馬堅譯本             王靜齋譯本                   仝道章譯本      \n",
       "1       1 : 1        奉至仁至慈的真主之名         奉普慈特慈安拉之名              奉大仁大慈的安拉尊名      \n",
       "2       1 : 2  一切讚頌，全歸真主，全世界的主，      讚頌安拉；眾世界的養主。        一切讚頌都屬於安拉——全世界的主      \n",
       "3       1 : 3           至仁至慈的主，            普慈特慈的。                大仁的、大慈的，      \n",
       "4       1 : 4            報應日的主。           執掌還報日的。                  審判日的主。      \n",
       "...       ...               ... ..            ... ..                  ... ..   \n",
       "6345  114 : 2           世人的君王 ,           執掌人類的主，            “（他是）人類的君主，”      \n",
       "6346  114 : 3           世人的神明 ,           人類敬拜的主，            “（他是）人類的真宰，”      \n",
       "6347  114 : 4     免遭潛伏的教唆者的毒害 ,          於暗唆的隱伏的，          “(使我)免于魔鬼的罪惡。”      \n",
       "6348  114 : 5       他在世人的胸中教唆 ,     就是那暗唆於人的胸間的——     “它向人類的心中投入(罪惡的細語）。”      \n",
       "6349  114 : 6       他是屬於精靈和人類的。     鎮呢與人類的惡上祈求護佑。       “(它是來自)神靈和人類的當中。”      \n",
       "\n",
       "                                 7  8                         9  10  \n",
       "0                             馬金鵬譯本                        馬仲剛譯本     \n",
       "1     萬贊歸安拉\\n[注1]\\n——調養萬世的\\n[注2]\\n，                   奉普慈特慈的安拉之名     \n",
       "2                     普慈特慈的\\n[注]\\n，     一切讚頌，全歸安拉——眾世界的主\\n[注]\\n，     \n",
       "3                   掌管還報日\\n[注]\\n的主。                   普慈的主，特慈的主，     \n",
       "4                   我們只崇拜你，我們只求你援助。                       審判日的主。     \n",
       "...                             ... ..                       ... ..  \n",
       "6345                  掌管人類的\\n[注]\\n，           人類的掌權者\\n[注]\\n[安拉]，     \n",
       "6346                      人類的主宰求護佑，               人類應崇拜的主[安拉]保護，     \n",
       "6347           從隱藏的魔鬼\\n[注]\\n唆使之歹壞上，          免遭潛伏的教唆者的傷害\\n[注]\\n。     \n",
       "6348                    那在人類的心中唆使的。         他[教唆者]在人類的心中教唆[做壞事]，     \n",
       "6349               來自鎮尼和人類的\\n[注]\\n。                   他來自精靈和人類。”     \n",
       "\n",
       "[6350 rows x 11 columns]"
      ]
     },
     "execution_count": 51,
     "metadata": {},
     "output_type": "execute_result"
    }
   ],
   "source": [
    "final"
   ]
  },
  {
   "cell_type": "code",
   "execution_count": 52,
   "id": "27cacc93",
   "metadata": {},
   "outputs": [],
   "source": [
    "final.to_hdf('Quran.h5', key='df', mode='w')"
   ]
  },
  {
   "cell_type": "code",
   "execution_count": 53,
   "id": "c889db0e",
   "metadata": {},
   "outputs": [],
   "source": [
    "final.to_csv(\"Quran.csv\")"
   ]
  },
  {
   "cell_type": "code",
   "execution_count": 55,
   "id": "b419401d",
   "metadata": {},
   "outputs": [],
   "source": [
    "final.to_html(\"Quran.html\" )"
   ]
  },
  {
   "cell_type": "code",
   "execution_count": 58,
   "id": "441328b3",
   "metadata": {},
   "outputs": [],
   "source": [
    "final.to_pickle(\"Quran.pkl\")"
   ]
  },
  {
   "cell_type": "code",
   "execution_count": 59,
   "id": "9780dcae",
   "metadata": {},
   "outputs": [
    {
     "name": "stdout",
     "output_type": "stream",
     "text": [
      "Executing shutdown due to inactivity...\n"
     ]
    },
    {
     "name": "stderr",
     "output_type": "stream",
     "text": [
      "2021-06-20 11:48:12,809 - INFO     - Executing shutdown due to inactivity...\n"
     ]
    },
    {
     "name": "stdout",
     "output_type": "stream",
     "text": [
      "Executing shutdown...\n"
     ]
    },
    {
     "name": "stderr",
     "output_type": "stream",
     "text": [
      "2021-06-20 11:48:21,008 - INFO     - Executing shutdown...\n"
     ]
    }
   ],
   "source": [
    "final.to_excel(\"Quran.xlsx\")"
   ]
  },
  {
   "cell_type": "code",
   "execution_count": null,
   "id": "d4886190",
   "metadata": {},
   "outputs": [],
   "source": []
  },
  {
   "cell_type": "code",
   "execution_count": null,
   "id": "688ff5fd",
   "metadata": {},
   "outputs": [],
   "source": []
  },
  {
   "cell_type": "code",
   "execution_count": null,
   "id": "81d4bb19",
   "metadata": {},
   "outputs": [],
   "source": []
  },
  {
   "cell_type": "code",
   "execution_count": null,
   "id": "8be13529",
   "metadata": {},
   "outputs": [],
   "source": []
  },
  {
   "cell_type": "code",
   "execution_count": null,
   "id": "6cb28c12",
   "metadata": {},
   "outputs": [],
   "source": []
  },
  {
   "cell_type": "code",
   "execution_count": null,
   "id": "9427bda0",
   "metadata": {},
   "outputs": [],
   "source": []
  }
 ],
 "metadata": {
  "kernelspec": {
   "display_name": "Python 3",
   "language": "python",
   "name": "python3"
  },
  "language_info": {
   "codemirror_mode": {
    "name": "ipython",
    "version": 3
   },
   "file_extension": ".py",
   "mimetype": "text/x-python",
   "name": "python",
   "nbconvert_exporter": "python",
   "pygments_lexer": "ipython3",
   "version": "3.8.8"
  }
 },
 "nbformat": 4,
 "nbformat_minor": 5
}
