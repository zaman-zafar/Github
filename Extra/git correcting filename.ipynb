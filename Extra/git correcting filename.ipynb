{
 "cells": [
  {
   "cell_type": "code",
   "execution_count": 11,
   "metadata": {},
   "outputs": [],
   "source": [
    "file = \"E:\\\\AWS Certified Solutions Architect\\\\\""
   ]
  },
  {
   "cell_type": "code",
   "execution_count": null,
   "metadata": {},
   "outputs": [],
   "source": []
  },
  {
   "cell_type": "code",
   "execution_count": 12,
   "metadata": {},
   "outputs": [],
   "source": [
    "# for reducing the foldername\n",
    "\n",
    "import os\n",
    "  \n",
    "# Function to rename multiple files\n",
    "def forfoldername():\n",
    "  \n",
    "    for count, filename in enumerate(os.listdir(file)):\n",
    "        \n",
    "        \n",
    "        \n",
    "        dst =filename.split(\" \")[0]\n",
    "        src =file + filename\n",
    "        dst =file + dst\n",
    "          \n",
    "        # rename() function will\n",
    "        # rename all the files\n",
    "        os.rename(src, dst)\n",
    "  \n",
    "# Driver Code\n",
    "if __name__ == '__main__':\n",
    "      \n",
    "    # Calling main() function\n",
    "    forfoldername()\n",
    "\n",
    "\n",
    "\n"
   ]
  },
  {
   "cell_type": "code",
   "execution_count": 7,
   "metadata": {},
   "outputs": [],
   "source": [
    "# for removing certain text from all folders to 1 level\n",
    "import os\n",
    "  \n",
    "# Function to rename multiple files\n",
    "def forfilename():\n",
    "  \n",
    "\n",
    "    \n",
    "    for co, fil in enumerate(os.listdir(file)): \n",
    "        filei = file + fil + \"\\\\\"\n",
    "    \n",
    "        for count, filename in enumerate(os.listdir(filei)):\n",
    "            string = \"--- [ CourseMega.com ] ---\"\n",
    "        \n",
    "        \n",
    "            dst =filename.replace(string , \"\" )\n",
    "            src =filei + filename\n",
    "            dst =filei + dst\n",
    "          \n",
    "        # rename() function will\n",
    "        # rename all the files\n",
    "            os.rename(src, dst)\n",
    "  \n",
    "# Driver Code\n",
    "if __name__ == '__main__':\n",
    "      \n",
    "    # Calling main() function\n",
    "    forfilename()\n"
   ]
  },
  {
   "cell_type": "code",
   "execution_count": null,
   "metadata": {},
   "outputs": [],
   "source": []
  },
  {
   "cell_type": "code",
   "execution_count": null,
   "metadata": {},
   "outputs": [],
   "source": []
  },
  {
   "cell_type": "code",
   "execution_count": 8,
   "metadata": {},
   "outputs": [],
   "source": []
  },
  {
   "cell_type": "code",
   "execution_count": null,
   "metadata": {},
   "outputs": [],
   "source": []
  },
  {
   "cell_type": "code",
   "execution_count": null,
   "metadata": {},
   "outputs": [],
   "source": [
    "# for removing certain name from file name inside a folder\n",
    "\n",
    "import os\n",
    "  \n",
    "# Function to rename multiple files\n",
    "def forfilename():\n",
    "  \n",
    "    for count, filename in enumerate(os.listdir(file)):\n",
    "        string = \"--- [ FreeCourseWeb.com ] ---\"\n",
    "        \n",
    "        \n",
    "        dst =filename.replace(string , \"\" )\n",
    "        src =file + filename\n",
    "        dst =file + dst\n",
    "          \n",
    "        # rename() function will\n",
    "        # rename all the files\n",
    "        os.rename(src, dst)\n",
    "  \n",
    "# Driver Code\n",
    "if __name__ == '__main__':\n",
    "      \n",
    "    # Calling main() function\n",
    "    forfilename()\n"
   ]
  },
  {
   "cell_type": "code",
   "execution_count": 39,
   "metadata": {},
   "outputs": [],
   "source": []
  },
  {
   "cell_type": "code",
   "execution_count": 43,
   "metadata": {},
   "outputs": [],
   "source": []
  },
  {
   "cell_type": "code",
   "execution_count": null,
   "metadata": {},
   "outputs": [],
   "source": []
  },
  {
   "cell_type": "code",
   "execution_count": null,
   "metadata": {},
   "outputs": [],
   "source": []
  }
 ],
 "metadata": {
  "kernelspec": {
   "display_name": "Python 3",
   "language": "python",
   "name": "python3"
  },
  "language_info": {
   "codemirror_mode": {
    "name": "ipython",
    "version": 3
   },
   "file_extension": ".py",
   "mimetype": "text/x-python",
   "name": "python",
   "nbconvert_exporter": "python",
   "pygments_lexer": "ipython3",
   "version": "3.7.5"
  }
 },
 "nbformat": 4,
 "nbformat_minor": 2
}
